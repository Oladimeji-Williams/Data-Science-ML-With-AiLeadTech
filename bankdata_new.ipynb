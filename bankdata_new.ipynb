{
 "cells": [
  {
   "cell_type": "markdown",
   "metadata": {},
   "source": [
    "<h2>Import All Libraries</h2>"
   ]
  },
  {
   "cell_type": "code",
   "execution_count": 1,
   "metadata": {},
   "outputs": [],
   "source": [
    "#import all libraries and classes\n",
    "import matplotlib.pyplot as plt\n",
    "import seaborn as sns\n",
    "import pandas as pd\n",
    "import numpy as np\n",
    "from sklearn.model_selection import train_test_split\n",
    "from sklearn.preprocessing import StandardScaler\n",
    "from sklearn.ensemble import RandomForestClassifier\n",
    "from sklearn.linear_model import LogisticRegression"
   ]
  },
  {
   "cell_type": "markdown",
   "metadata": {},
   "source": [
    "<h2>Import And Inspect The Dataset</h2>"
   ]
  },
  {
   "cell_type": "code",
   "execution_count": 2,
   "metadata": {},
   "outputs": [],
   "source": [
    "#import the dataset\n",
    "bankdata = pd.read_csv(r\"C:\\Users\\Williams\\Desktop\\DataScienceWithAiLead\\PROJECT\\bank_data.csv\")"
   ]
  },
  {
   "cell_type": "code",
   "execution_count": 3,
   "metadata": {},
   "outputs": [
    {
     "data": {
      "text/html": [
       "<div>\n",
       "<style scoped>\n",
       "    .dataframe tbody tr th:only-of-type {\n",
       "        vertical-align: middle;\n",
       "    }\n",
       "\n",
       "    .dataframe tbody tr th {\n",
       "        vertical-align: top;\n",
       "    }\n",
       "\n",
       "    .dataframe thead th {\n",
       "        text-align: right;\n",
       "    }\n",
       "</style>\n",
       "<table border=\"1\" class=\"dataframe\">\n",
       "  <thead>\n",
       "    <tr style=\"text-align: right;\">\n",
       "      <th></th>\n",
       "      <th>age</th>\n",
       "      <th>job</th>\n",
       "      <th>marital</th>\n",
       "      <th>education</th>\n",
       "      <th>default</th>\n",
       "      <th>housing</th>\n",
       "      <th>loan</th>\n",
       "      <th>contact</th>\n",
       "      <th>month</th>\n",
       "      <th>day_of_week</th>\n",
       "      <th>...</th>\n",
       "      <th>campaign</th>\n",
       "      <th>pdays</th>\n",
       "      <th>previous</th>\n",
       "      <th>poutcome</th>\n",
       "      <th>emp.var.rate</th>\n",
       "      <th>cons.price.idx</th>\n",
       "      <th>cons.conf.idx</th>\n",
       "      <th>euribor3m</th>\n",
       "      <th>nr.employed</th>\n",
       "      <th>y</th>\n",
       "    </tr>\n",
       "  </thead>\n",
       "  <tbody>\n",
       "    <tr>\n",
       "      <th>0</th>\n",
       "      <td>56</td>\n",
       "      <td>housemaid</td>\n",
       "      <td>married</td>\n",
       "      <td>basic.4y</td>\n",
       "      <td>no</td>\n",
       "      <td>no</td>\n",
       "      <td>no</td>\n",
       "      <td>telephone</td>\n",
       "      <td>may</td>\n",
       "      <td>mon</td>\n",
       "      <td>...</td>\n",
       "      <td>1</td>\n",
       "      <td>999</td>\n",
       "      <td>0</td>\n",
       "      <td>nonexistent</td>\n",
       "      <td>1.1</td>\n",
       "      <td>93.994</td>\n",
       "      <td>-36.4</td>\n",
       "      <td>4.857</td>\n",
       "      <td>5191.0</td>\n",
       "      <td>no</td>\n",
       "    </tr>\n",
       "    <tr>\n",
       "      <th>1</th>\n",
       "      <td>57</td>\n",
       "      <td>services</td>\n",
       "      <td>married</td>\n",
       "      <td>high.school</td>\n",
       "      <td>NaN</td>\n",
       "      <td>no</td>\n",
       "      <td>no</td>\n",
       "      <td>telephone</td>\n",
       "      <td>may</td>\n",
       "      <td>mon</td>\n",
       "      <td>...</td>\n",
       "      <td>1</td>\n",
       "      <td>999</td>\n",
       "      <td>0</td>\n",
       "      <td>nonexistent</td>\n",
       "      <td>1.1</td>\n",
       "      <td>93.994</td>\n",
       "      <td>-36.4</td>\n",
       "      <td>4.857</td>\n",
       "      <td>5191.0</td>\n",
       "      <td>no</td>\n",
       "    </tr>\n",
       "    <tr>\n",
       "      <th>2</th>\n",
       "      <td>37</td>\n",
       "      <td>services</td>\n",
       "      <td>married</td>\n",
       "      <td>high.school</td>\n",
       "      <td>no</td>\n",
       "      <td>yes</td>\n",
       "      <td>no</td>\n",
       "      <td>telephone</td>\n",
       "      <td>may</td>\n",
       "      <td>mon</td>\n",
       "      <td>...</td>\n",
       "      <td>1</td>\n",
       "      <td>999</td>\n",
       "      <td>0</td>\n",
       "      <td>nonexistent</td>\n",
       "      <td>1.1</td>\n",
       "      <td>93.994</td>\n",
       "      <td>-36.4</td>\n",
       "      <td>4.857</td>\n",
       "      <td>5191.0</td>\n",
       "      <td>no</td>\n",
       "    </tr>\n",
       "    <tr>\n",
       "      <th>3</th>\n",
       "      <td>40</td>\n",
       "      <td>admin.</td>\n",
       "      <td>married</td>\n",
       "      <td>basic.6y</td>\n",
       "      <td>no</td>\n",
       "      <td>no</td>\n",
       "      <td>no</td>\n",
       "      <td>telephone</td>\n",
       "      <td>may</td>\n",
       "      <td>mon</td>\n",
       "      <td>...</td>\n",
       "      <td>1</td>\n",
       "      <td>999</td>\n",
       "      <td>0</td>\n",
       "      <td>nonexistent</td>\n",
       "      <td>1.1</td>\n",
       "      <td>93.994</td>\n",
       "      <td>-36.4</td>\n",
       "      <td>4.857</td>\n",
       "      <td>5191.0</td>\n",
       "      <td>no</td>\n",
       "    </tr>\n",
       "    <tr>\n",
       "      <th>4</th>\n",
       "      <td>56</td>\n",
       "      <td>services</td>\n",
       "      <td>married</td>\n",
       "      <td>high.school</td>\n",
       "      <td>no</td>\n",
       "      <td>no</td>\n",
       "      <td>yes</td>\n",
       "      <td>telephone</td>\n",
       "      <td>may</td>\n",
       "      <td>mon</td>\n",
       "      <td>...</td>\n",
       "      <td>1</td>\n",
       "      <td>999</td>\n",
       "      <td>0</td>\n",
       "      <td>nonexistent</td>\n",
       "      <td>1.1</td>\n",
       "      <td>93.994</td>\n",
       "      <td>-36.4</td>\n",
       "      <td>4.857</td>\n",
       "      <td>5191.0</td>\n",
       "      <td>no</td>\n",
       "    </tr>\n",
       "  </tbody>\n",
       "</table>\n",
       "<p>5 rows × 21 columns</p>\n",
       "</div>"
      ],
      "text/plain": [
       "   age        job  marital    education default housing loan    contact month  \\\n",
       "0   56  housemaid  married     basic.4y      no      no   no  telephone   may   \n",
       "1   57   services  married  high.school     NaN      no   no  telephone   may   \n",
       "2   37   services  married  high.school      no     yes   no  telephone   may   \n",
       "3   40     admin.  married     basic.6y      no      no   no  telephone   may   \n",
       "4   56   services  married  high.school      no      no  yes  telephone   may   \n",
       "\n",
       "  day_of_week  ...  campaign  pdays  previous     poutcome emp.var.rate  \\\n",
       "0         mon  ...         1    999         0  nonexistent          1.1   \n",
       "1         mon  ...         1    999         0  nonexistent          1.1   \n",
       "2         mon  ...         1    999         0  nonexistent          1.1   \n",
       "3         mon  ...         1    999         0  nonexistent          1.1   \n",
       "4         mon  ...         1    999         0  nonexistent          1.1   \n",
       "\n",
       "   cons.price.idx  cons.conf.idx  euribor3m  nr.employed   y  \n",
       "0          93.994          -36.4      4.857       5191.0  no  \n",
       "1          93.994          -36.4      4.857       5191.0  no  \n",
       "2          93.994          -36.4      4.857       5191.0  no  \n",
       "3          93.994          -36.4      4.857       5191.0  no  \n",
       "4          93.994          -36.4      4.857       5191.0  no  \n",
       "\n",
       "[5 rows x 21 columns]"
      ]
     },
     "execution_count": 3,
     "metadata": {},
     "output_type": "execute_result"
    }
   ],
   "source": [
    "#inspect the first five records\n",
    "bankdata.head()"
   ]
  },
  {
   "cell_type": "code",
   "execution_count": 4,
   "metadata": {},
   "outputs": [
    {
     "data": {
      "text/plain": [
       "(41188, 21)"
      ]
     },
     "execution_count": 4,
     "metadata": {},
     "output_type": "execute_result"
    }
   ],
   "source": [
    "#check the dimension of the dataset\n",
    "bankdata.shape"
   ]
  },
  {
   "cell_type": "markdown",
   "metadata": {},
   "source": [
    "<h2>Data Preparation And Cleaning</h2>"
   ]
  },
  {
   "cell_type": "code",
   "execution_count": 5,
   "metadata": {},
   "outputs": [],
   "source": [
    "#copy the dataset to another variable\n",
    "bankdata_df = bankdata.copy()"
   ]
  },
  {
   "cell_type": "code",
   "execution_count": 6,
   "metadata": {},
   "outputs": [
    {
     "data": {
      "text/plain": [
       "age                  0\n",
       "job                330\n",
       "marital             80\n",
       "education         1731\n",
       "default           8597\n",
       "housing            990\n",
       "loan               990\n",
       "contact              0\n",
       "month                0\n",
       "day_of_week          0\n",
       "duration             0\n",
       "campaign             0\n",
       "pdays                0\n",
       "previous             0\n",
       "poutcome             0\n",
       "emp.var.rate         0\n",
       "cons.price.idx       0\n",
       "cons.conf.idx        0\n",
       "euribor3m            0\n",
       "nr.employed          0\n",
       "y                    0\n",
       "dtype: int64"
      ]
     },
     "execution_count": 6,
     "metadata": {},
     "output_type": "execute_result"
    }
   ],
   "source": [
    "#check for null columns\n",
    "bankdata_df.isnull().sum()"
   ]
  },
  {
   "cell_type": "code",
   "execution_count": 7,
   "metadata": {},
   "outputs": [
    {
     "data": {
      "text/plain": [
       "age                 int64\n",
       "job                object\n",
       "marital            object\n",
       "education          object\n",
       "default            object\n",
       "housing            object\n",
       "loan               object\n",
       "contact            object\n",
       "month              object\n",
       "day_of_week        object\n",
       "duration            int64\n",
       "campaign            int64\n",
       "pdays               int64\n",
       "previous            int64\n",
       "poutcome           object\n",
       "emp.var.rate      float64\n",
       "cons.price.idx    float64\n",
       "cons.conf.idx     float64\n",
       "euribor3m         float64\n",
       "nr.employed       float64\n",
       "y                  object\n",
       "dtype: object"
      ]
     },
     "execution_count": 7,
     "metadata": {},
     "output_type": "execute_result"
    }
   ],
   "source": [
    "#inspect the data types after cleaning\n",
    "bankdata_df.dtypes"
   ]
  },
  {
   "cell_type": "code",
   "execution_count": 8,
   "metadata": {},
   "outputs": [
    {
     "data": {
      "text/plain": [
       "array(['basic.4y', 'high.school', 'basic.6y', 'basic.9y',\n",
       "       'professional.course', nan, 'university.degree', 'illiterate'],\n",
       "      dtype=object)"
      ]
     },
     "execution_count": 8,
     "metadata": {},
     "output_type": "execute_result"
    }
   ],
   "source": [
    "#check the categories of education\n",
    "bankdata_df[\"education\"].unique()"
   ]
  },
  {
   "cell_type": "code",
   "execution_count": 9,
   "metadata": {},
   "outputs": [
    {
     "name": "stdout",
     "output_type": "stream",
     "text": [
      "admin.\n",
      "admin.\n",
      "blue-collar\n",
      "technician\n",
      "blue-collar\n",
      "blue-collar\n",
      "blue-collar\n"
     ]
    }
   ],
   "source": [
    "#check and store the most occurring job category grouped by educational level into variables\n",
    "universitydegree = bankdata_df.groupby(\"education\").get_group(\"university.degree\")[\"job\"].mode()[0]\n",
    "highschool = bankdata_df.groupby(\"education\").get_group(\"high.school\")[\"job\"].mode()[0]\n",
    "basic9y = bankdata_df.groupby(\"education\").get_group(\"basic.9y\")[\"job\"].mode()[0]\n",
    "professionalcourse = bankdata_df.groupby(\"education\").get_group(\"professional.course\")[\"job\"].mode()[0]\n",
    "basic4y = bankdata_df.groupby(\"education\").get_group(\"basic.4y\")[\"job\"].mode()[0]\n",
    "basic6y = bankdata_df.groupby(\"education\").get_group(\"basic.6y\")[\"job\"].mode()[0]\n",
    "illiterate = bankdata_df.groupby(\"education\").get_group(\"illiterate\")[\"job\"].mode()[0]\n",
    "\n",
    "print(universitydegree)\n",
    "print(highschool)\n",
    "print(basic9y)\n",
    "print(professionalcourse)\n",
    "print(basic4y)\n",
    "print(basic6y)\n",
    "print(illiterate)"
   ]
  },
  {
   "cell_type": "code",
   "execution_count": 10,
   "metadata": {},
   "outputs": [
    {
     "data": {
      "text/plain": [
       "0"
      ]
     },
     "execution_count": 10,
     "metadata": {},
     "output_type": "execute_result"
    }
   ],
   "source": [
    "#fill the null values of each group by its most occurring value\n",
    "universitydegree = bankdata_df.groupby(\"education\").get_group(\"university.degree\")[\"job\"].fillna(value=universitydegree)\n",
    "bankdata_df[\"job\"].update(universitydegree)\n",
    "\n",
    "\n",
    "highschool = bankdata_df.groupby(\"education\").get_group(\"high.school\")[\"job\"].fillna(value=highschool)\n",
    "bankdata_df[\"job\"].update(highschool)\n",
    "\n",
    "\n",
    "basic9y = bankdata_df.groupby(\"education\").get_group(\"basic.9y\")[\"job\"].fillna(value=basic9y)\n",
    "bankdata_df[\"job\"].update(basic9y)\n",
    "\n",
    "\n",
    "professionalcourse = bankdata_df.groupby(\"education\").get_group(\"professional.course\")[\"job\"].fillna(value=professionalcourse)\n",
    "bankdata_df[\"job\"].update(professionalcourse)\n",
    "\n",
    "\n",
    "basic4y = bankdata_df.groupby(\"education\").get_group(\"basic.4y\")[\"job\"].fillna(value=basic4y)\n",
    "bankdata_df[\"job\"].update(basic4y)\n",
    "\n",
    "\n",
    "\n",
    "basic6y = bankdata_df.groupby(\"education\").get_group(\"basic.6y\")[\"job\"].fillna(value=basic6y)\n",
    "bankdata_df[\"job\"].update(basic6y)\n",
    "\n",
    "\n",
    "illiterate = bankdata_df.groupby(\"education\").get_group(\"illiterate\")[\"job\"].fillna(value=illiterate)\n",
    "bankdata_df[\"job\"].update(illiterate)\n",
    "\n",
    "\n",
    "bankdata_df[\"job\"].fillna(value=\"blue-collar\", inplace=True)\n",
    "\n",
    "\n",
    "bankdata_df[\"job\"].isnull().sum()"
   ]
  },
  {
   "cell_type": "code",
   "execution_count": 11,
   "metadata": {},
   "outputs": [
    {
     "data": {
      "text/plain": [
       "array(['housemaid', 'services', 'admin.', 'blue-collar', 'technician',\n",
       "       'retired', 'management', 'unemployed', 'self-employed',\n",
       "       'entrepreneur', 'student'], dtype=object)"
      ]
     },
     "execution_count": 11,
     "metadata": {},
     "output_type": "execute_result"
    }
   ],
   "source": [
    "#check the categories of job\n",
    "bankdata_df[\"job\"].unique()"
   ]
  },
  {
   "cell_type": "code",
   "execution_count": 12,
   "metadata": {},
   "outputs": [
    {
     "name": "stdout",
     "output_type": "stream",
     "text": [
      "married\n",
      "married\n",
      "married\n",
      "married\n",
      "married\n",
      "married\n",
      "married\n",
      "married\n",
      "married\n",
      "married\n",
      "single\n"
     ]
    }
   ],
   "source": [
    "#check and store the most occurring marital status grouped by job type into variables\n",
    "admin1 = bankdata_df.groupby(\"job\").get_group(\"admin.\")[\"marital\"].mode()[0]\n",
    "bluecollar1 = bankdata_df.groupby(\"job\").get_group(\"blue-collar\")[\"marital\"].mode()[0]\n",
    "technician1 = bankdata_df.groupby(\"job\").get_group(\"technician\")[\"marital\"].mode()[0]\n",
    "services1 = bankdata_df.groupby(\"job\").get_group(\"services\")[\"marital\"].mode()[0]\n",
    "management1 = bankdata_df.groupby(\"job\").get_group(\"management\")[\"marital\"].mode()[0]\n",
    "retired1 = bankdata_df.groupby(\"job\").get_group(\"retired\")[\"marital\"].mode()[0]\n",
    "entrepreneur1 = bankdata_df.groupby(\"job\").get_group(\"entrepreneur\")[\"marital\"].mode()[0]\n",
    "selfemployed1 = bankdata_df.groupby(\"job\").get_group(\"self-employed\")[\"marital\"].mode()[0]\n",
    "housemaid1 = bankdata_df.groupby(\"job\").get_group(\"housemaid\")[\"marital\"].mode()[0]\n",
    "unemployed1 =  bankdata_df.groupby(\"job\").get_group(\"unemployed\")[\"marital\"].mode()[0]\n",
    "student1 = bankdata_df.groupby(\"job\").get_group(\"student\")[\"marital\"].mode()[0]\n",
    "\n",
    "print(admin1)\n",
    "print(bluecollar1)\n",
    "print(technician1)\n",
    "print(services1)\n",
    "print(management1)\n",
    "print(retired1)\n",
    "print(entrepreneur1)\n",
    "print(selfemployed1)\n",
    "print(housemaid1)\n",
    "print(unemployed1)\n",
    "print(student1)"
   ]
  },
  {
   "cell_type": "code",
   "execution_count": 13,
   "metadata": {},
   "outputs": [
    {
     "data": {
      "text/plain": [
       "0"
      ]
     },
     "execution_count": 13,
     "metadata": {},
     "output_type": "execute_result"
    }
   ],
   "source": [
    "#fill the null values of each group by its most occurring value\n",
    "admin1 = bankdata_df.groupby(\"job\").get_group(\"admin.\")[\"marital\"].fillna(value=admin1)\n",
    "bankdata_df[\"marital\"].update(admin1)\n",
    "\n",
    "\n",
    "bluecollar1 = bankdata_df.groupby(\"job\").get_group(\"blue-collar\")[\"marital\"].fillna(value=bluecollar1)\n",
    "bankdata_df[\"marital\"].update(bluecollar1)\n",
    "\n",
    "\n",
    "technician1 = bankdata_df.groupby(\"job\").get_group(\"technician\")[\"marital\"].fillna(value=technician1)\n",
    "bankdata_df[\"marital\"].update(technician1)\n",
    "\n",
    "\n",
    "services1 = bankdata_df.groupby(\"job\").get_group(\"services\")[\"marital\"].fillna(value=services1)\n",
    "bankdata_df[\"marital\"].update(services1)\n",
    "\n",
    "\n",
    "management1 = bankdata_df.groupby(\"job\").get_group(\"management\")[\"marital\"].fillna(value=management1)\n",
    "bankdata_df[\"marital\"].update(management1)\n",
    "\n",
    "\n",
    "retired1 = bankdata_df.groupby(\"job\").get_group(\"retired\")[\"marital\"].fillna(value=retired1)\n",
    "bankdata_df[\"marital\"].update(retired1)\n",
    "\n",
    "\n",
    "entrepreneur1 = bankdata_df.groupby(\"job\").get_group(\"entrepreneur\")[\"marital\"].fillna(value=entrepreneur1)\n",
    "bankdata_df[\"marital\"].update(entrepreneur1)\n",
    "\n",
    "\n",
    "\n",
    "selfemployed1 = bankdata_df.groupby(\"job\").get_group(\"self-employed\")[\"marital\"].fillna(value=selfemployed1)\n",
    "bankdata_df[\"marital\"].update(selfemployed1)\n",
    "\n",
    "\n",
    "\n",
    "housemaid1 = bankdata_df.groupby(\"job\").get_group(\"housemaid\")[\"marital\"].fillna(value=housemaid1)\n",
    "bankdata_df[\"marital\"].update(housemaid1)\n",
    "\n",
    "\n",
    "\n",
    "unemployed1 = bankdata_df.groupby(\"job\").get_group(\"unemployed\")[\"marital\"].fillna(value=unemployed1)\n",
    "bankdata_df[\"marital\"].update(unemployed1)\n",
    "\n",
    "\n",
    "student1 = bankdata_df.groupby(\"job\").get_group(\"student\")[\"marital\"].fillna(value=student1)\n",
    "bankdata_df[\"marital\"].update(student1)\n",
    "\n",
    "\n",
    "bankdata_df[\"marital\"].fillna(value=\"married\", inplace=True)\n",
    "\n",
    "\n",
    "bankdata_df[\"marital\"].isnull().sum()"
   ]
  },
  {
   "cell_type": "code",
   "execution_count": 14,
   "metadata": {},
   "outputs": [
    {
     "data": {
      "text/plain": [
       "array(['housemaid', 'services', 'admin.', 'blue-collar', 'technician',\n",
       "       'retired', 'management', 'unemployed', 'self-employed',\n",
       "       'entrepreneur', 'student'], dtype=object)"
      ]
     },
     "execution_count": 14,
     "metadata": {},
     "output_type": "execute_result"
    }
   ],
   "source": [
    "#check the categories of job\n",
    "bankdata_df[\"job\"].unique()"
   ]
  },
  {
   "cell_type": "code",
   "execution_count": 15,
   "metadata": {},
   "outputs": [
    {
     "name": "stdout",
     "output_type": "stream",
     "text": [
      "university.degree\n",
      "basic.9y\n",
      "professional.course\n",
      "high.school\n",
      "university.degree\n",
      "basic.4y\n",
      "university.degree\n",
      "university.degree\n",
      "basic.4y\n",
      "university.degree\n",
      "high.school\n"
     ]
    }
   ],
   "source": [
    "#check and store the most occurring educational level grouped by job category into variables\n",
    "admin2 = bankdata_df.groupby(\"job\").get_group(\"admin.\")[\"education\"].mode()[0]\n",
    "bluecollar2 = bankdata_df.groupby(\"job\").get_group(\"blue-collar\")[\"education\"].mode()[0]\n",
    "technician2 = bankdata_df.groupby(\"job\").get_group(\"technician\")[\"education\"].mode()[0]\n",
    "services2 = bankdata_df.groupby(\"job\").get_group(\"services\")[\"education\"].mode()[0]\n",
    "management2 = bankdata_df.groupby(\"job\").get_group(\"management\")[\"education\"].mode()[0]\n",
    "retired2 = bankdata_df.groupby(\"job\").get_group(\"retired\")[\"education\"].mode()[0]\n",
    "entrepreneur2 = bankdata_df.groupby(\"job\").get_group(\"entrepreneur\")[\"education\"].mode()[0]\n",
    "selfemployed2 = bankdata_df.groupby(\"job\").get_group(\"self-employed\")[\"education\"].mode()[0]\n",
    "housemaid2 = bankdata_df.groupby(\"job\").get_group(\"housemaid\")[\"education\"].mode()[0]\n",
    "unemployed2 =  bankdata_df.groupby(\"job\").get_group(\"unemployed\")[\"education\"].mode()[0]\n",
    "student2 = bankdata_df.groupby(\"job\").get_group(\"student\")[\"education\"].mode()[0]\n",
    "\n",
    "print(admin2)\n",
    "print(bluecollar2)\n",
    "print(technician2)\n",
    "print(services2)\n",
    "print(management2)\n",
    "print(retired2)\n",
    "print(entrepreneur2)\n",
    "print(selfemployed2)\n",
    "print(housemaid2)\n",
    "print(unemployed2)\n",
    "print(student2)"
   ]
  },
  {
   "cell_type": "code",
   "execution_count": 16,
   "metadata": {},
   "outputs": [
    {
     "data": {
      "text/plain": [
       "0"
      ]
     },
     "execution_count": 16,
     "metadata": {},
     "output_type": "execute_result"
    }
   ],
   "source": [
    "#fill the null values of each group by its most occurring value\n",
    "admin2 = bankdata_df.groupby(\"job\").get_group(\"admin.\")[\"education\"].fillna(value=admin2)\n",
    "bankdata_df[\"education\"].update(admin2)\n",
    "\n",
    "\n",
    "bluecollar2 = bankdata_df.groupby(\"job\").get_group(\"blue-collar\")[\"education\"].fillna(value=bluecollar1)\n",
    "bankdata_df[\"education\"].update(bluecollar2)\n",
    "\n",
    "\n",
    "technician2 = bankdata_df.groupby(\"job\").get_group(\"technician\")[\"education\"].fillna(value=technician2)\n",
    "bankdata_df[\"education\"].update(technician2)\n",
    "\n",
    "\n",
    "services2 = bankdata_df.groupby(\"job\").get_group(\"services\")[\"education\"].fillna(value=services2)\n",
    "bankdata_df[\"education\"].update(services2)\n",
    "\n",
    "\n",
    "management2 = bankdata_df.groupby(\"job\").get_group(\"management\")[\"education\"].fillna(value=management2)\n",
    "bankdata_df[\"education\"].update(management2)\n",
    "\n",
    "\n",
    "retired2 = bankdata_df.groupby(\"job\").get_group(\"retired\")[\"education\"].fillna(value=retired2)\n",
    "bankdata_df[\"education\"].update(retired2)\n",
    "\n",
    "\n",
    "entrepreneur2 = bankdata_df.groupby(\"job\").get_group(\"entrepreneur\")[\"education\"].fillna(value=entrepreneur2)\n",
    "bankdata_df[\"education\"].update(entrepreneur2)\n",
    "\n",
    "\n",
    "selfemployed2 = bankdata_df.groupby(\"job\").get_group(\"self-employed\")[\"education\"].fillna(value=selfemployed2)\n",
    "bankdata_df[\"education\"].update(selfemployed2)\n",
    "\n",
    "\n",
    "housemaid2 = bankdata_df.groupby(\"job\").get_group(\"housemaid\")[\"education\"].fillna(value=housemaid2)\n",
    "bankdata_df[\"education\"].update(housemaid2)\n",
    "\n",
    "\n",
    "\n",
    "unemployed2 = bankdata_df.groupby(\"job\").get_group(\"unemployed\")[\"education\"].fillna(value=unemployed2)\n",
    "bankdata_df[\"education\"].update(unemployed2)\n",
    "\n",
    "\n",
    "student2 = bankdata_df.groupby(\"job\").get_group(\"student\")[\"education\"].fillna(value=student2)\n",
    "bankdata_df[\"education\"].update(student2)\n",
    "\n",
    "\n",
    "bankdata_df[\"education\"].fillna(value=\"university.degree\", inplace=True)\n",
    "\n",
    "\n",
    "bankdata_df[\"education\"].isnull().sum()"
   ]
  },
  {
   "cell_type": "code",
   "execution_count": 17,
   "metadata": {},
   "outputs": [
    {
     "data": {
      "text/plain": [
       "array(['nonexistent', 'failure', 'success'], dtype=object)"
      ]
     },
     "execution_count": 17,
     "metadata": {},
     "output_type": "execute_result"
    }
   ],
   "source": [
    "#check the categories of previous outcome of the campaign\n",
    "bankdata_df[\"poutcome\"].unique()"
   ]
  },
  {
   "cell_type": "code",
   "execution_count": 18,
   "metadata": {},
   "outputs": [
    {
     "name": "stdout",
     "output_type": "stream",
     "text": [
      "no\n",
      "no\n",
      "no\n"
     ]
    }
   ],
   "source": [
    "#check and store the most occurring credit availability category grouped by outcome of previous campaign into variables\n",
    "nonexistent1 = bankdata_df.groupby(\"poutcome\").get_group(\"nonexistent\")[\"default\"].mode()[0]\n",
    "failure1 = bankdata_df.groupby(\"poutcome\").get_group(\"failure\")[\"default\"].mode()[0]\n",
    "success1 = bankdata_df.groupby(\"poutcome\").get_group(\"success\")[\"default\"].mode()[0]\n",
    "\n",
    "print(nonexistent1)\n",
    "print(failure1)\n",
    "print(success1)"
   ]
  },
  {
   "cell_type": "code",
   "execution_count": 19,
   "metadata": {},
   "outputs": [
    {
     "data": {
      "text/plain": [
       "0"
      ]
     },
     "execution_count": 19,
     "metadata": {},
     "output_type": "execute_result"
    }
   ],
   "source": [
    "#fill the null values of each group by its most occurring value\n",
    "nonexistent1 = bankdata_df.groupby(\"poutcome\").get_group(\"nonexistent\")[\"default\"].fillna(value=nonexistent1)\n",
    "bankdata_df[\"default\"].update(nonexistent1)\n",
    "\n",
    "\n",
    "failure1 = bankdata_df.groupby(\"poutcome\").get_group(\"failure\")[\"default\"].mode().fillna(value=failure1)\n",
    "bankdata_df[\"default\"].update(failure1)\n",
    "\n",
    "\n",
    "success1 = bankdata_df.groupby(\"poutcome\").get_group(\"success\")[\"default\"].mode().fillna(value=success1)\n",
    "bankdata_df[\"default\"].update(success1)\n",
    "\n",
    "\n",
    "bankdata_df[\"default\"].fillna(value=\"no\", inplace=True)\n",
    "\n",
    "\n",
    "bankdata_df[\"default\"].isnull().sum()"
   ]
  },
  {
   "cell_type": "code",
   "execution_count": 20,
   "metadata": {},
   "outputs": [
    {
     "name": "stdout",
     "output_type": "stream",
     "text": [
      "yes\n",
      "yes\n",
      "yes\n"
     ]
    }
   ],
   "source": [
    "#check and store the most occurring housing loan category grouped by outcome of previous campaign into variables\n",
    "nonexistent2 = bankdata_df.groupby(\"poutcome\").get_group(\"nonexistent\")[\"housing\"].mode()[0]\n",
    "failure2 = bankdata_df.groupby(\"poutcome\").get_group(\"failure\")[\"housing\"].mode()[0]\n",
    "success2 = bankdata_df.groupby(\"poutcome\").get_group(\"success\")[\"housing\"].mode()[0]\n",
    "\n",
    "print(nonexistent2)\n",
    "print(failure2)\n",
    "print(success2)"
   ]
  },
  {
   "cell_type": "code",
   "execution_count": 21,
   "metadata": {},
   "outputs": [
    {
     "data": {
      "text/plain": [
       "0"
      ]
     },
     "execution_count": 21,
     "metadata": {},
     "output_type": "execute_result"
    }
   ],
   "source": [
    "#fill the null values of each group by its most occurring value\n",
    "nonexistent2 = bankdata_df.groupby(\"poutcome\").get_group(\"nonexistent\")[\"housing\"].fillna(value=nonexistent2)\n",
    "bankdata_df[\"housing\"].update(nonexistent2)\n",
    "\n",
    "\n",
    "failure2 = bankdata_df.groupby(\"poutcome\").get_group(\"failure\")[\"housing\"].mode().fillna(value=failure2)\n",
    "bankdata_df[\"housing\"].update(failure2)\n",
    "\n",
    "\n",
    "success2 = bankdata_df.groupby(\"poutcome\").get_group(\"success\")[\"housing\"].mode().fillna(value=success2)\n",
    "bankdata_df[\"housing\"].update(success2)\n",
    "\n",
    "\n",
    "bankdata_df[\"housing\"].fillna(value=\"yes\", inplace=True)\n",
    "\n",
    "\n",
    "bankdata_df[\"housing\"].isnull().sum()"
   ]
  },
  {
   "cell_type": "code",
   "execution_count": 22,
   "metadata": {},
   "outputs": [
    {
     "name": "stdout",
     "output_type": "stream",
     "text": [
      "no\n",
      "no\n",
      "no\n"
     ]
    }
   ],
   "source": [
    "#check and store the most occurring personal loan category grouped by outcome of previous campaign into variables\n",
    "nonexistent3 = bankdata_df.groupby(\"poutcome\").get_group(\"nonexistent\")[\"loan\"].mode()[0]\n",
    "failure3 = bankdata_df.groupby(\"poutcome\").get_group(\"failure\")[\"loan\"].mode()[0]\n",
    "success3 = bankdata_df.groupby(\"poutcome\").get_group(\"success\")[\"loan\"].mode()[0]\n",
    "\n",
    "print(nonexistent3)\n",
    "print(failure3)\n",
    "print(success3)"
   ]
  },
  {
   "cell_type": "code",
   "execution_count": 23,
   "metadata": {},
   "outputs": [
    {
     "data": {
      "text/plain": [
       "0"
      ]
     },
     "execution_count": 23,
     "metadata": {},
     "output_type": "execute_result"
    }
   ],
   "source": [
    "#fill the null values of each group by its most occurring value\n",
    "nonexistent3 = bankdata_df.groupby(\"poutcome\").get_group(\"nonexistent\")[\"loan\"].fillna(value=nonexistent3)\n",
    "bankdata_df[\"loan\"].update(nonexistent3)\n",
    "\n",
    "\n",
    "failure3 = bankdata_df.groupby(\"poutcome\").get_group(\"failure\")[\"loan\"].mode().fillna(value=failure3)\n",
    "bankdata_df[\"loan\"].update(failure3)\n",
    "\n",
    "\n",
    "success3 = bankdata_df.groupby(\"poutcome\").get_group(\"success\")[\"loan\"].mode().fillna(value=success3)\n",
    "bankdata_df[\"loan\"].update(success3)\n",
    "\n",
    "\n",
    "bankdata_df[\"loan\"].fillna(value=\"no\", inplace=True)\n",
    "\n",
    "\n",
    "bankdata_df[\"loan\"].isnull().sum()"
   ]
  },
  {
   "cell_type": "markdown",
   "metadata": {},
   "source": [
    "<h4>Inspect The Data After Cleaning</h4>"
   ]
  },
  {
   "cell_type": "code",
   "execution_count": 24,
   "metadata": {},
   "outputs": [
    {
     "data": {
      "text/plain": [
       "age               0\n",
       "job               0\n",
       "marital           0\n",
       "education         0\n",
       "default           0\n",
       "housing           0\n",
       "loan              0\n",
       "contact           0\n",
       "month             0\n",
       "day_of_week       0\n",
       "duration          0\n",
       "campaign          0\n",
       "pdays             0\n",
       "previous          0\n",
       "poutcome          0\n",
       "emp.var.rate      0\n",
       "cons.price.idx    0\n",
       "cons.conf.idx     0\n",
       "euribor3m         0\n",
       "nr.employed       0\n",
       "y                 0\n",
       "dtype: int64"
      ]
     },
     "execution_count": 24,
     "metadata": {},
     "output_type": "execute_result"
    }
   ],
   "source": [
    "#inspect the data for null values\n",
    "bankdata_df.isnull().sum()"
   ]
  },
  {
   "cell_type": "code",
   "execution_count": 25,
   "metadata": {},
   "outputs": [
    {
     "data": {
      "text/plain": [
       "age                 int64\n",
       "job                object\n",
       "marital            object\n",
       "education          object\n",
       "default            object\n",
       "housing            object\n",
       "loan               object\n",
       "contact            object\n",
       "month              object\n",
       "day_of_week        object\n",
       "duration            int64\n",
       "campaign            int64\n",
       "pdays               int64\n",
       "previous            int64\n",
       "poutcome           object\n",
       "emp.var.rate      float64\n",
       "cons.price.idx    float64\n",
       "cons.conf.idx     float64\n",
       "euribor3m         float64\n",
       "nr.employed       float64\n",
       "y                  object\n",
       "dtype: object"
      ]
     },
     "execution_count": 25,
     "metadata": {},
     "output_type": "execute_result"
    }
   ],
   "source": [
    "#inspect the datatypes\n",
    "bankdata_df.dtypes"
   ]
  },
  {
   "cell_type": "code",
   "execution_count": 26,
   "metadata": {},
   "outputs": [
    {
     "data": {
      "text/html": [
       "<div>\n",
       "<style scoped>\n",
       "    .dataframe tbody tr th:only-of-type {\n",
       "        vertical-align: middle;\n",
       "    }\n",
       "\n",
       "    .dataframe tbody tr th {\n",
       "        vertical-align: top;\n",
       "    }\n",
       "\n",
       "    .dataframe thead th {\n",
       "        text-align: right;\n",
       "    }\n",
       "</style>\n",
       "<table border=\"1\" class=\"dataframe\">\n",
       "  <thead>\n",
       "    <tr style=\"text-align: right;\">\n",
       "      <th></th>\n",
       "      <th>job</th>\n",
       "      <th>marital</th>\n",
       "      <th>education</th>\n",
       "      <th>default</th>\n",
       "      <th>housing</th>\n",
       "      <th>loan</th>\n",
       "      <th>contact</th>\n",
       "      <th>month</th>\n",
       "      <th>day_of_week</th>\n",
       "      <th>poutcome</th>\n",
       "      <th>y</th>\n",
       "    </tr>\n",
       "  </thead>\n",
       "  <tbody>\n",
       "    <tr>\n",
       "      <th>0</th>\n",
       "      <td>housemaid</td>\n",
       "      <td>married</td>\n",
       "      <td>basic.4y</td>\n",
       "      <td>no</td>\n",
       "      <td>yes</td>\n",
       "      <td>no</td>\n",
       "      <td>telephone</td>\n",
       "      <td>may</td>\n",
       "      <td>mon</td>\n",
       "      <td>nonexistent</td>\n",
       "      <td>no</td>\n",
       "    </tr>\n",
       "    <tr>\n",
       "      <th>1</th>\n",
       "      <td>services</td>\n",
       "      <td>married</td>\n",
       "      <td>high.school</td>\n",
       "      <td>no</td>\n",
       "      <td>no</td>\n",
       "      <td>no</td>\n",
       "      <td>telephone</td>\n",
       "      <td>may</td>\n",
       "      <td>mon</td>\n",
       "      <td>nonexistent</td>\n",
       "      <td>no</td>\n",
       "    </tr>\n",
       "    <tr>\n",
       "      <th>2</th>\n",
       "      <td>services</td>\n",
       "      <td>married</td>\n",
       "      <td>high.school</td>\n",
       "      <td>no</td>\n",
       "      <td>yes</td>\n",
       "      <td>no</td>\n",
       "      <td>telephone</td>\n",
       "      <td>may</td>\n",
       "      <td>mon</td>\n",
       "      <td>nonexistent</td>\n",
       "      <td>no</td>\n",
       "    </tr>\n",
       "    <tr>\n",
       "      <th>3</th>\n",
       "      <td>admin.</td>\n",
       "      <td>married</td>\n",
       "      <td>basic.6y</td>\n",
       "      <td>no</td>\n",
       "      <td>no</td>\n",
       "      <td>no</td>\n",
       "      <td>telephone</td>\n",
       "      <td>may</td>\n",
       "      <td>mon</td>\n",
       "      <td>nonexistent</td>\n",
       "      <td>no</td>\n",
       "    </tr>\n",
       "    <tr>\n",
       "      <th>4</th>\n",
       "      <td>services</td>\n",
       "      <td>married</td>\n",
       "      <td>high.school</td>\n",
       "      <td>no</td>\n",
       "      <td>no</td>\n",
       "      <td>yes</td>\n",
       "      <td>telephone</td>\n",
       "      <td>may</td>\n",
       "      <td>mon</td>\n",
       "      <td>nonexistent</td>\n",
       "      <td>no</td>\n",
       "    </tr>\n",
       "  </tbody>\n",
       "</table>\n",
       "</div>"
      ],
      "text/plain": [
       "         job  marital    education default housing loan    contact month  \\\n",
       "0  housemaid  married     basic.4y      no     yes   no  telephone   may   \n",
       "1   services  married  high.school      no      no   no  telephone   may   \n",
       "2   services  married  high.school      no     yes   no  telephone   may   \n",
       "3     admin.  married     basic.6y      no      no   no  telephone   may   \n",
       "4   services  married  high.school      no      no  yes  telephone   may   \n",
       "\n",
       "  day_of_week     poutcome   y  \n",
       "0         mon  nonexistent  no  \n",
       "1         mon  nonexistent  no  \n",
       "2         mon  nonexistent  no  \n",
       "3         mon  nonexistent  no  \n",
       "4         mon  nonexistent  no  "
      ]
     },
     "execution_count": 26,
     "metadata": {},
     "output_type": "execute_result"
    }
   ],
   "source": [
    "#inspect all the columns with object datatype\n",
    "bankdata_df.select_dtypes(\"object\").head()"
   ]
  },
  {
   "cell_type": "markdown",
   "metadata": {},
   "source": [
    "<h2>Data Visualisation</h2>"
   ]
  },
  {
   "cell_type": "code",
   "execution_count": 27,
   "metadata": {},
   "outputs": [
    {
     "data": {
      "image/png": "[encoded data removed]",
      "text/plain": [
       "<Figure size 413.25x360 with 1 Axes>"
      ]
     },
     "metadata": {
      "needs_background": "light"
     },
     "output_type": "display_data"
    }
   ],
   "source": [
    "#Visualise \"job\" and \"housing\"\n",
    "sns.catplot(x=\"job\", data=bankdata, hue=\"housing\", kind=\"count\")\n",
    "plt.title(\"Number of People With and Without Housing AGAINST Their Job\")\n",
    "plt.xticks(rotation=45)\n",
    "plt.show()\n",
    "\n",
    "#The countplot below shows the number of those with and without housing loans in each jobtype.\n",
    "#It can be seen that the largest number of people on housing loans are found with admin job with approximately 6000 of them\n",
    "#while the lowest are students of about 500.\n",
    "#It therefore means that people with admin job will most likely subscribe while students will less likely subscribe."
   ]
  },
  {
   "cell_type": "code",
   "execution_count": 28,
   "metadata": {},
   "outputs": [
    {
     "data": {
      "image/png": "[encoded data removed]",
      "text/plain": [
       "<Figure size 413.25x360 with 1 Axes>"
      ]
     },
     "metadata": {
      "needs_background": "light"
     },
     "output_type": "display_data"
    }
   ],
   "source": [
    "#Visualise \"job\" and \"loan\"\n",
    "sns.catplot(x=\"job\", data=bankdata, hue=\"loan\", kind=\"count\")\n",
    "plt.title(\"Number of People With and Without Personal Loan AGAINST Their Job\")\n",
    "plt.xticks(rotation=45)\n",
    "plt.show()\n",
    "\n",
    "#The countplot below shows the number of those with and without personal loans in each jobtype.\n",
    "#It can be seen that the largest number of people on personal loans are found with admin job with approximately 1800 of them\n",
    "#while the lowest are students of about 180.\n",
    "#It therefore means that people with admin job will most likely subscribe while students will less likely subscribe."
   ]
  },
  {
   "cell_type": "code",
   "execution_count": 29,
   "metadata": {},
   "outputs": [
    {
     "data": {
      "image/png": "[encoded data removed]",
      "text/plain": [
       "<Figure size 360x360 with 1 Axes>"
      ]
     },
     "metadata": {
      "needs_background": "light"
     },
     "output_type": "display_data"
    }
   ],
   "source": [
    "#Visualise \"month\" and \"loan\"\n",
    "sns.catplot(x=\"month\", data=bankdata, kind=\"count\")\n",
    "plt.title(\"Number of People AGAINST Month Last Contacted\")\n",
    "plt.xticks(rotation=45)\n",
    "plt.show()\n",
    "\n",
    "#The countplot below shows the number of those contacted in previous months.\n",
    "#It can be seen that the largest number of people were contacted in the month of May - almost 1400 people were contacted.\n",
    "#Obviously, campaign activity has steadily decreased over the months."
   ]
  },
  {
   "cell_type": "code",
   "execution_count": 30,
   "metadata": {},
   "outputs": [
    {
     "data": {
      "image/png": "[encoded data removed]",
      "text/plain": [
       "<Figure size 360x360 with 1 Axes>"
      ]
     },
     "metadata": {
      "needs_background": "light"
     },
     "output_type": "display_data"
    }
   ],
   "source": [
    "#Visualise \"job\" and \"age\"\n",
    "sns.catplot(x=\"job\", y=\"age\", data=bankdata, kind=\"bar\")\n",
    "plt.title(\"Age of People AGAINST Their Job\")\n",
    "plt.xticks(rotation=45)\n",
    "plt.show()\n",
    "\n",
    "#It can be established from the barchart below that people retire often at the age of 60,\n",
    "#and that people with admin job are in their late 30s."
   ]
  },
  {
   "cell_type": "code",
   "execution_count": 31,
   "metadata": {},
   "outputs": [
    {
     "data": {
      "image/png": "[encoded data removed]",
      "text/plain": [
       "<Figure size 360x360 with 1 Axes>"
      ]
     },
     "metadata": {
      "needs_background": "light"
     },
     "output_type": "display_data"
    }
   ],
   "source": [
    "#Visualise the frequency of the outcomes of the previous campaign\n",
    "sns.catplot(x=\"poutcome\", data=bankdata, kind=\"count\")\n",
    "plt.title(\"Outcome of Previous Marketing Campaign\")\n",
    "plt.xticks(rotation=45)\n",
    "plt.show()\n",
    "\n",
    "#It can be seen that there is little success achieved from the previous campaign.\n",
    "#This is partly because campaign activity steadily decreased over the months."
   ]
  },
  {
   "cell_type": "markdown",
   "metadata": {},
   "source": [
    "<h2>Data Encoding</h2>"
   ]
  },
  {
   "cell_type": "code",
   "execution_count": 32,
   "metadata": {},
   "outputs": [],
   "source": [
    "#rename column names from month, day-of-week, poutcome, and target to month_name, day-of-week_name,\n",
    "#poutcome_name, and  target_name respectively<\n",
    "\n",
    "bankdata_df.rename(columns={\"month\":\"month_name\", \"day_of_week\":\"day_of_week_name\", \"poutcome\":\"poutcome_name\", \"y\":\"target_name\"}, inplace=True)"
   ]
  },
  {
   "cell_type": "code",
   "execution_count": 33,
   "metadata": {},
   "outputs": [],
   "source": [
    "#encode and delete the original columns\n",
    "bankdata_encoded = pd.get_dummies(bankdata_df, columns=[\"job\", \"marital\", \"education\", \"default\", \"housing\", \"loan\", \"contact\"], sparse=True, drop_first=True)"
   ]
  },
  {
   "cell_type": "markdown",
   "metadata": {},
   "source": [
    "<h4>Encode And Store In New Columns With New Names</h4>"
   ]
  },
  {
   "cell_type": "code",
   "execution_count": 34,
   "metadata": {},
   "outputs": [],
   "source": [
    "bankdata_encoded[\"month\"] = bankdata_encoded[\"month_name\"].map({\"jan\":1, \"feb\":2, \"mar\":3, \"apr\":4, \"may\":5, \"jun\":6, \"jul\":7, \"aug\":8, \"sep\":9, \"oct\":10, \"nov\": 11, \"dec\":12})"
   ]
  },
  {
   "cell_type": "code",
   "execution_count": 35,
   "metadata": {},
   "outputs": [],
   "source": [
    "bankdata_encoded[\"day_of_week\"] = bankdata_encoded[\"day_of_week_name\"].map({\"mon\":1, \"tue\":2, \"wed\":3, \"thu\":4, \"fri\":5, \"sat\":6, \"sun\":7})"
   ]
  },
  {
   "cell_type": "code",
   "execution_count": 36,
   "metadata": {},
   "outputs": [],
   "source": [
    "bankdata_encoded[\"poutcome\"] = bankdata_encoded[\"poutcome_name\"].map({\"nonexistent\":1, \"failure\":2, \"success\":3})"
   ]
  },
  {
   "cell_type": "code",
   "execution_count": 37,
   "metadata": {},
   "outputs": [],
   "source": [
    "bankdata_encoded[\"target\"] = bankdata_encoded[\"target_name\"].map({\"yes\":1, \"no\":0})"
   ]
  },
  {
   "cell_type": "markdown",
   "metadata": {},
   "source": [
    "<h4>Inspect The Column Names</h4>"
   ]
  },
  {
   "cell_type": "code",
   "execution_count": 38,
   "metadata": {},
   "outputs": [
    {
     "data": {
      "text/plain": [
       "Index(['age', 'month_name', 'day_of_week_name', 'duration', 'campaign',\n",
       "       'pdays', 'previous', 'poutcome_name', 'emp.var.rate', 'cons.price.idx',\n",
       "       'cons.conf.idx', 'euribor3m', 'nr.employed', 'target_name',\n",
       "       'job_blue-collar', 'job_entrepreneur', 'job_housemaid',\n",
       "       'job_management', 'job_retired', 'job_self-employed', 'job_services',\n",
       "       'job_student', 'job_technician', 'job_unemployed', 'marital_married',\n",
       "       'marital_single', 'education_basic.6y', 'education_basic.9y',\n",
       "       'education_divorced', 'education_high.school', 'education_illiterate',\n",
       "       'education_married', 'education_professional.course',\n",
       "       'education_single', 'education_university.degree', 'default_yes',\n",
       "       'housing_yes', 'loan_yes', 'contact_telephone', 'month', 'day_of_week',\n",
       "       'poutcome', 'target'],\n",
       "      dtype='object')"
      ]
     },
     "execution_count": 38,
     "metadata": {},
     "output_type": "execute_result"
    }
   ],
   "source": [
    "bankdata_encoded.columns"
   ]
  },
  {
   "cell_type": "markdown",
   "metadata": {},
   "source": [
    "<h4>Inspect The Datatypes Of All The Data</h4>"
   ]
  },
  {
   "cell_type": "code",
   "execution_count": 39,
   "metadata": {},
   "outputs": [
    {
     "data": {
      "text/plain": [
       "age                                         int64\n",
       "month_name                                 object\n",
       "day_of_week_name                           object\n",
       "duration                                    int64\n",
       "campaign                                    int64\n",
       "pdays                                       int64\n",
       "previous                                    int64\n",
       "poutcome_name                              object\n",
       "emp.var.rate                              float64\n",
       "cons.price.idx                            float64\n",
       "cons.conf.idx                             float64\n",
       "euribor3m                                 float64\n",
       "nr.employed                               float64\n",
       "target_name                                object\n",
       "job_blue-collar                  Sparse[uint8, 0]\n",
       "job_entrepreneur                 Sparse[uint8, 0]\n",
       "job_housemaid                    Sparse[uint8, 0]\n",
       "job_management                   Sparse[uint8, 0]\n",
       "job_retired                      Sparse[uint8, 0]\n",
       "job_self-employed                Sparse[uint8, 0]\n",
       "job_services                     Sparse[uint8, 0]\n",
       "job_student                      Sparse[uint8, 0]\n",
       "job_technician                   Sparse[uint8, 0]\n",
       "job_unemployed                   Sparse[uint8, 0]\n",
       "marital_married                  Sparse[uint8, 0]\n",
       "marital_single                   Sparse[uint8, 0]\n",
       "education_basic.6y               Sparse[uint8, 0]\n",
       "education_basic.9y               Sparse[uint8, 0]\n",
       "education_divorced               Sparse[uint8, 0]\n",
       "education_high.school            Sparse[uint8, 0]\n",
       "education_illiterate             Sparse[uint8, 0]\n",
       "education_married                Sparse[uint8, 0]\n",
       "education_professional.course    Sparse[uint8, 0]\n",
       "education_single                 Sparse[uint8, 0]\n",
       "education_university.degree      Sparse[uint8, 0]\n",
       "default_yes                      Sparse[uint8, 0]\n",
       "housing_yes                      Sparse[uint8, 0]\n",
       "loan_yes                         Sparse[uint8, 0]\n",
       "contact_telephone                Sparse[uint8, 0]\n",
       "month                                       int64\n",
       "day_of_week                                 int64\n",
       "poutcome                                    int64\n",
       "target                                      int64\n",
       "dtype: object"
      ]
     },
     "execution_count": 39,
     "metadata": {},
     "output_type": "execute_result"
    }
   ],
   "source": [
    "bankdata_encoded.dtypes"
   ]
  },
  {
   "cell_type": "markdown",
   "metadata": {},
   "source": [
    "<h2>Build Model</h2>"
   ]
  },
  {
   "cell_type": "markdown",
   "metadata": {},
   "source": [
    "<h4>Select The Feature And The Target Variables</h4>"
   ]
  },
  {
   "cell_type": "code",
   "execution_count": 40,
   "metadata": {},
   "outputs": [],
   "source": [
    "X = bankdata_encoded.drop([\"month_name\", \"day_of_week_name\", \"poutcome_name\", \"target_name\", \"duration\", \"target\"], axis=1)\n",
    "y = bankdata_encoded[\"target\"]"
   ]
  },
  {
   "cell_type": "markdown",
   "metadata": {},
   "source": [
    "<h4>Linear Regression And Random Forest Classifier Model Function</h4>"
   ]
  },
  {
   "cell_type": "code",
   "execution_count": 41,
   "metadata": {},
   "outputs": [],
   "source": [
    "def Model(X, y, model):\n",
    "    try:\n",
    "        #split the data\n",
    "        X_train_validation, X_test, y_train_validation, y_test = train_test_split(X, y, random_state=0)\n",
    "        X_train, X_validation, y_train, y_validation = train_test_split(X_train_validation, y_train_validation, random_state=0)\n",
    "        #scale the features\n",
    "        scaler = StandardScaler()\n",
    "        X_train_scaled = scaler.fit_transform(X_train)\n",
    "        X_validation_scaled = scaler.transform(X_validation)\n",
    "        X_test_scaled = scaler.transform(X_test)\n",
    "        if model == 1:\n",
    "            #train the Random Forest model\n",
    "            reg = RandomForestClassifier(random_state=0)\n",
    "            reg.fit(X_train_scaled, y_train)\n",
    "            print(\"Random Forest Classifier DONE...\")\n",
    "        elif model == 2:\n",
    "            #build the Logistic Regression model\n",
    "            reg = LogisticRegression()\n",
    "            reg.fit(X_train_scaled, y_train)\n",
    "            print(\"Logistic Regression DONE...\")\n",
    "        else:\n",
    "            print(\"Invalid input\")\n",
    "        return X_train_scaled, X_validation_scaled, X_test_scaled, y_train, y_validation, y_test, reg\n",
    "    except:\n",
    "        pass"
   ]
  },
  {
   "cell_type": "markdown",
   "metadata": {},
   "source": [
    "<h4>Parameter Tuning Function</h4>"
   ]
  },
  {
   "cell_type": "code",
   "execution_count": 42,
   "metadata": {},
   "outputs": [],
   "source": [
    "def Parametertuning(X_train_scaled, X_validation_scaled, y_train, y_validation, model):\n",
    "    try:\n",
    "        train_accuracy = []\n",
    "        validation_accuracy = []\n",
    "        #hyper-parameter tuning and get the best value of regularization constant c in order to avoid overfitting\n",
    "        if model == 1:\n",
    "            #hyper-parameter tune and get the best value of the number of trees in the forest in order to avoid overfitting\n",
    "            no_of_trees = [1, 2, 5, 10, 100, 200, 300, 400, 500, 600, 700, 800, 900, 1000]\n",
    "            for tree in no_of_trees:\n",
    "                reg = RandomForestClassifier(n_estimators=tree, random_state=0)\n",
    "                reg.fit(X_train_scaled, y_train)\n",
    "                train_accuracy.append(reg.score(X_train_scaled, y_train))\n",
    "                validation_accuracy.append(reg.score(X_validation_scaled, y_validation))\n",
    "            plt.plot(no_of_trees, train_accuracy, label = \"Training Accuracy\")\n",
    "            plt.plot(no_of_trees, validation_accuracy, label = \"Validation Accuracy\")\n",
    "            plt.legend()\n",
    "            plt.xlabel(\"No. of Trees\")\n",
    "            plt.ylabel(\"Accuracies\")\n",
    "            plt.show()\n",
    "        elif model == 2:\n",
    "            values_of_C = [0.01, 0.02, 0.05, 0.1, 0.15, 0.2, 0.25, 0.5, 0.6, 0.8]\n",
    "            for c in values_of_C:\n",
    "                reg = LogisticRegression(C = c)\n",
    "                reg.fit(X_train_scaled, y_train)\n",
    "                train_accuracy.append(reg.score(X_train_scaled, y_train))\n",
    "                validation_accuracy.append(reg.score(X_validation_scaled, y_validation))\n",
    "            plt.plot(values_of_C, train_accuracy, label = \"Training Accuracy\")\n",
    "            plt.plot(values_of_C, validation_accuracy, label = \"Validation Accuracy\")\n",
    "            plt.legend()\n",
    "            plt.xlabel(\"Values of C\")\n",
    "            plt.ylabel(\"Accuracies\")\n",
    "            plt.show()\n",
    "    except:\n",
    "        pass"
   ]
  },
  {
   "cell_type": "markdown",
   "metadata": {},
   "source": [
    "<h4>Retrain Function</h4>"
   ]
  },
  {
   "cell_type": "code",
   "execution_count": 43,
   "metadata": {},
   "outputs": [],
   "source": [
    "def Retrain(X_train_scaled, y_train, k, model):\n",
    "    try:\n",
    "        #re-train the Logistic Regression model\n",
    "        if model == 1:\n",
    "            reg = RandomForestClassifier(n_estimators=k, random_state=0)\n",
    "            reg.fit(X_train_scaled, y_train)\n",
    "        #re-train the Random Forest model\n",
    "        elif model == 2:\n",
    "            reg = LogisticRegression(C=k)\n",
    "            reg.fit(X_train_scaled, y_train)\n",
    "        return reg\n",
    "    except:\n",
    "        pass"
   ]
  },
  {
   "cell_type": "code",
   "execution_count": 44,
   "metadata": {},
   "outputs": [
    {
     "name": "stdout",
     "output_type": "stream",
     "text": [
      "Enter 1 for Random Forest Classifier... Enter 2 for Logistic Regression: 1\n",
      "Random Forest Classifier DONE...\n"
     ]
    }
   ],
   "source": [
    "#call the model function and unpack it for Random Forest Classifier\n",
    "reg_type=int(input(\"Enter 1 for Random Forest Classifier... Enter 2 for Logistic Regression: \"))\n",
    "X_train_scaled, X_validation_scaled, X_test_scaled, y_train, y_validation, y_test, reg = Model(X, y, reg_type)"
   ]
  },
  {
   "cell_type": "markdown",
   "metadata": {},
   "source": [
    "<h4>Predict And Evaluate Performance</h4>"
   ]
  },
  {
   "cell_type": "code",
   "execution_count": 45,
   "metadata": {},
   "outputs": [
    {
     "name": "stdout",
     "output_type": "stream",
     "text": [
      "['no' 'no' 'no' ... 'no' 'no' 'no']\n",
      "no    7723\n",
      "Name: target_name, dtype: int64\n"
     ]
    }
   ],
   "source": [
    "#predict the output of the Validation dataset\n",
    "y_pred1 = reg.predict(X_validation_scaled)\n",
    "print(bankdata_encoded[\"target_name\"][y_pred1].values)\n",
    "print(bankdata_encoded[\"target_name\"][y_pred1].value_counts())"
   ]
  },
  {
   "cell_type": "code",
   "execution_count": 46,
   "metadata": {},
   "outputs": [
    {
     "name": "stdout",
     "output_type": "stream",
     "text": [
      "Train Accuracy: \t99.54%\n",
      "Validation Accuracy: \t89.71%\n"
     ]
    }
   ],
   "source": [
    "#check the performance of the model on the training and validation dataset\n",
    "print(f\"Train Accuracy: \\t{reg.score(X_train_scaled, y_train)*100:.4}%\")\n",
    "print(f\"Validation Accuracy: \\t{reg.score(X_validation_scaled, y_validation)*100:.4}%\")"
   ]
  },
  {
   "cell_type": "markdown",
   "metadata": {},
   "source": [
    "<h4>Tune The Parameters And Retrain The Model</h4>"
   ]
  },
  {
   "cell_type": "code",
   "execution_count": 47,
   "metadata": {},
   "outputs": [
    {
     "data": {
      "image/png": "[encoded data removed]",
      "text/plain": [
       "<Figure size 432x288 with 1 Axes>"
      ]
     },
     "metadata": {
      "needs_background": "light"
     },
     "output_type": "display_data"
    }
   ],
   "source": [
    "Parametertuning(X_train_scaled, X_validation_scaled, y_train, y_validation, reg_type)"
   ]
  },
  {
   "cell_type": "code",
   "execution_count": 48,
   "metadata": {},
   "outputs": [
    {
     "name": "stdout",
     "output_type": "stream",
     "text": [
      "Enter a good approximate number of trees: 2\n"
     ]
    }
   ],
   "source": [
    "tree = int(input(\"Enter a good approximate number of trees: \"))\n",
    "reg_new = Retrain(X_train_scaled, y_train, tree, reg_type)"
   ]
  },
  {
   "cell_type": "code",
   "execution_count": 49,
   "metadata": {},
   "outputs": [
    {
     "name": "stdout",
     "output_type": "stream",
     "text": [
      "Modified Train Accuracy: \t94.73%\n",
      "Modified Validation Accuracy: \t88.53%\n",
      "Modified Test Accuracy: \t88.27%\n"
     ]
    }
   ],
   "source": [
    "#check the performance of the new model\n",
    "print(f\"Modified Train Accuracy: \\t{reg_new.score(X_train_scaled, y_train)*100:.4}%\")\n",
    "print(f\"Modified Validation Accuracy: \\t{reg_new.score(X_validation_scaled, y_validation)*100:.4}%\")\n",
    "print(f\"Modified Test Accuracy: \\t{reg_new.score(X_test_scaled, y_test)*100:.4}%\")"
   ]
  },
  {
   "cell_type": "code",
   "execution_count": 50,
   "metadata": {},
   "outputs": [],
   "source": [
    "#the worse performance of random forest model on the dataset is because the features contains many sparse data"
   ]
  },
  {
   "cell_type": "code",
   "execution_count": 51,
   "metadata": {},
   "outputs": [
    {
     "name": "stdout",
     "output_type": "stream",
     "text": [
      "Enter 1 for Random Forest Classifier... Enter 2 for Logistic Regression: 2\n",
      "Logistic Regression DONE...\n"
     ]
    }
   ],
   "source": [
    "#call the model function and unpack it for Logistic Regression\n",
    "reg_type=float(input(\"Enter 1 for Random Forest Classifier... Enter 2 for Logistic Regression: \"))\n",
    "X_train_scaled, X_validation_scaled, X_test_scaled, y_train, y_validation, y_test, reg = Model(X, y,reg_type)"
   ]
  },
  {
   "cell_type": "markdown",
   "metadata": {},
   "source": [
    "<h4>Predict And Evaluate Performance</h4>"
   ]
  },
  {
   "cell_type": "code",
   "execution_count": 52,
   "metadata": {},
   "outputs": [
    {
     "name": "stdout",
     "output_type": "stream",
     "text": [
      "['no' 'no' 'no' ... 'no' 'no' 'no']\n",
      "no    7723\n",
      "Name: target_name, dtype: int64\n"
     ]
    }
   ],
   "source": [
    "#predict the output of the Validation dataset\n",
    "y_pred1 = reg.predict(X_validation_scaled)\n",
    "print(bankdata_encoded[\"target_name\"][y_pred1].values)\n",
    "print(bankdata_encoded[\"target_name\"][y_pred1].value_counts())"
   ]
  },
  {
   "cell_type": "code",
   "execution_count": 53,
   "metadata": {},
   "outputs": [
    {
     "name": "stdout",
     "output_type": "stream",
     "text": [
      "Train Accuracy: \t90.08%\n",
      "Validation Accuracy: \t90.17%\n"
     ]
    }
   ],
   "source": [
    "#check the performance of the model on the training and validation dataset\n",
    "print(f\"Train Accuracy: \\t{reg.score(X_train_scaled, y_train)*100:.4}%\")\n",
    "print(f\"Validation Accuracy: \\t{reg.score(X_validation_scaled, y_validation)*100:.4}%\")"
   ]
  },
  {
   "cell_type": "markdown",
   "metadata": {},
   "source": [
    "<h4>Tune The Parameters And Retrain The Model</h4>"
   ]
  },
  {
   "cell_type": "code",
   "execution_count": 54,
   "metadata": {},
   "outputs": [
    {
     "data": {
      "image/png": "[encoded data removed]",
      "text/plain": [
       "<Figure size 432x288 with 1 Axes>"
      ]
     },
     "metadata": {
      "needs_background": "light"
     },
     "output_type": "display_data"
    }
   ],
   "source": [
    "Parametertuning(X_train_scaled, X_validation_scaled, y_train, y_validation, reg_type)"
   ]
  },
  {
   "cell_type": "code",
   "execution_count": 55,
   "metadata": {},
   "outputs": [
    {
     "name": "stdout",
     "output_type": "stream",
     "text": [
      "Enter a good approximate regularisation constant c: 0.000001\n"
     ]
    }
   ],
   "source": [
    "c = float(input(\"Enter a good approximate regularisation constant c: \"))\n",
    "reg_new = Retrain(X_train_scaled, y_train, c, reg_type)"
   ]
  },
  {
   "cell_type": "code",
   "execution_count": 56,
   "metadata": {},
   "outputs": [
    {
     "name": "stdout",
     "output_type": "stream",
     "text": [
      "Modified Train Accuracy: \t88.69%\n",
      "Modified Validation Accuracy: \t88.84%\n",
      "Modified Test Accuracy: \t88.75%\n"
     ]
    }
   ],
   "source": [
    "#check the performance of the new model\n",
    "print(f\"Modified Train Accuracy: \\t{reg_new.score(X_train_scaled, y_train)*100:.4}%\")\n",
    "print(f\"Modified Validation Accuracy: \\t{reg_new.score(X_validation_scaled, y_validation)*100:.4}%\")\n",
    "print(f\"Modified Test Accuracy: \\t{reg_new.score(X_test_scaled, y_test)*100:.4}%\")"
   ]
  },
  {
   "cell_type": "code",
   "execution_count": null,
   "metadata": {},
   "outputs": [],
   "source": []
  }
 ],
 "metadata": {
  "kernelspec": {
   "display_name": "Python 3",
   "language": "python",
   "name": "python3"
  },
  "language_info": {
   "codemirror_mode": {
    "name": "ipython",
    "version": 3
   },
   "file_extension": ".py",
   "mimetype": "text/x-python",
   "name": "python",
   "nbconvert_exporter": "python",
   "pygments_lexer": "ipython3",
   "version": "3.7.6"
  }
 },
 "nbformat": 4,
 "nbformat_minor": 4
}
