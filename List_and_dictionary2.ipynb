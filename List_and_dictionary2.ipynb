{
 "cells": [
  {
   "cell_type": "markdown",
   "metadata": {},
   "source": [
    "## Lists\n",
    "- Python list is also a built-in data structure available in Python. It can contain heterogeneous values \n",
    "such as integers, floats, strings, tuples, lists, and dictionaries. \n",
    "However, Python lists are mutable; yes, they can change."
   ]
  },
  {
   "cell_type": "code",
   "execution_count": 1,
   "metadata": {},
   "outputs": [],
   "source": [
    "list1 = [1, 2, \"ade\", [\"apple\", \"banana\"], 2.5]"
   ]
  },
  {
   "cell_type": "code",
   "execution_count": 2,
   "metadata": {},
   "outputs": [],
   "source": [
    "# creating a list with values\n",
    "Avengers = ['hulk', 'iron-man', 'Captain', 'Thor', 5, [\"Ali\", \"Simbi\"]]\n",
    "\n",
    "# empty list\n",
    "\n"
   ]
  },
  {
   "cell_type": "markdown",
   "metadata": {},
   "source": [
    "## Unpacking list values"
   ]
  },
  {
   "cell_type": "code",
   "execution_count": 3,
   "metadata": {},
   "outputs": [],
   "source": [
    "a, b = [1, 3]\n",
    "\n",
    "\n"
   ]
  },
  {
   "cell_type": "code",
   "execution_count": 4,
   "metadata": {},
   "outputs": [],
   "source": [
    "a, b, c = [2, 3, 1]\n",
    "\n"
   ]
  },
  {
   "cell_type": "code",
   "execution_count": null,
   "metadata": {},
   "outputs": [],
   "source": []
  },
  {
   "cell_type": "markdown",
   "metadata": {},
   "source": [
    "## List operations\n",
    "- In this section, you will learn slicing, accessing, adding, deleting, and updating the values in a list.\n",
    "\n",
    "### Accessing list values\n",
    "- In order to access list values, use list names with positional index in square brackets."
   ]
  },
  {
   "cell_type": "code",
   "execution_count": 5,
   "metadata": {},
   "outputs": [
    {
     "data": {
      "text/plain": [
       "'Captain'"
      ]
     },
     "execution_count": 5,
     "metadata": {},
     "output_type": "execute_result"
    }
   ],
   "source": [
    "Avengers = ['hulk', 'iron-man', 'Captain', 'Thor', 5, [\"Ali\", \"Simbi\"]]\n",
    "\n",
    "\n",
    "# accessing elements at different position in the list\n",
    "Avengers[2]"
   ]
  },
  {
   "cell_type": "markdown",
   "metadata": {},
   "source": [
    "### Slicing the list\n",
    "- The slicing of a list is the same as we did in tuples. See the syntax:\n",
    "\n",
    "    \n",
    "- $list-name$[start : stop : step]"
   ]
  },
  {
   "cell_type": "code",
   "execution_count": 6,
   "metadata": {},
   "outputs": [
    {
     "data": {
      "text/plain": [
       "[['Ali', 'Simbi'], 5]"
      ]
     },
     "execution_count": 6,
     "metadata": {},
     "output_type": "execute_result"
    }
   ],
   "source": [
    "Avengers = ['hulk', 'iron-man', 'Captain', 'Thor', 5, [\"Ali\", \"Simbi\"]]\n",
    "\n",
    "\n",
    "# different examples of slicing\n",
    "\n",
    "Avengers[:3:-1]\n",
    "\n",
    "#list1 = [1,2,3,4,5,6,7,8,9,10,11,12,13]\n",
    "\n",
    "\n",
    "# move through the list in step of 3\n",
    "\n"
   ]
  },
  {
   "cell_type": "markdown",
   "metadata": {},
   "source": [
    "## Updating the list\n",
    "- Lists are mutable, so the values of a list can be updated."
   ]
  },
  {
   "cell_type": "code",
   "execution_count": 7,
   "metadata": {},
   "outputs": [],
   "source": [
    "Avengers = ['hulk', 'iron-man', 'Captain', 'Thor', 5, [\"Ali\", \"Simbi\"]]\n",
    "\n",
    "# update the 3rd element to \"Captain-America\"\n",
    "Avengers[2] = \"Captain-America\"\n"
   ]
  },
  {
   "cell_type": "markdown",
   "metadata": {},
   "source": [
    "## Deleting values from a list\n",
    "- By using the $del$ keyword, you can delete a value or a slice of list from the list. "
   ]
  },
  {
   "cell_type": "code",
   "execution_count": 8,
   "metadata": {},
   "outputs": [],
   "source": [
    "C_W_team = ['hulk', 'iron-man', 'Captain-America', 'Thor',\"Vision\"]\n",
    "\n",
    "# delete the first element from the list\n",
    "\n",
    "#del C_W_team[0]"
   ]
  },
  {
   "cell_type": "code",
   "execution_count": null,
   "metadata": {},
   "outputs": [],
   "source": []
  },
  {
   "cell_type": "code",
   "execution_count": 9,
   "metadata": {},
   "outputs": [],
   "source": [
    "#del C_W_team[2:4]"
   ]
  },
  {
   "cell_type": "code",
   "execution_count": null,
   "metadata": {},
   "outputs": [],
   "source": []
  },
  {
   "cell_type": "markdown",
   "metadata": {},
   "source": [
    "## Addition of Python Lists\n",
    "- You can add two lists by using the + operator. "
   ]
  },
  {
   "cell_type": "code",
   "execution_count": 10,
   "metadata": {},
   "outputs": [
    {
     "data": {
      "text/plain": [
       "['hulk', 'iron-man', 'Captain-America', 'Thor', 'Vision', 'sam']"
      ]
     },
     "execution_count": 10,
     "metadata": {},
     "output_type": "execute_result"
    }
   ],
   "source": [
    "Avengers1 = ['hulk', 'iron-man', 'Captain-America', 'Thor']\n",
    "Avengers2 = [\"Vision\",\"sam\"]\n",
    "\n",
    "# add the two lists\n",
    "\n",
    "#Avengers1+Avengers2\n",
    "Avengers1.extend(Avengers2)\n",
    "Avengers1"
   ]
  },
  {
   "cell_type": "markdown",
   "metadata": {},
   "source": [
    "## Multiplication of lists\n",
    "- By using the * operator, you can perform multiplication of Python lists."
   ]
  },
  {
   "cell_type": "code",
   "execution_count": 11,
   "metadata": {},
   "outputs": [
    {
     "data": {
      "text/plain": [
       "['Vision', 'sam', 'Vision', 'sam']"
      ]
     },
     "execution_count": 11,
     "metadata": {},
     "output_type": "execute_result"
    }
   ],
   "source": [
    "Av = ['Vision', 'sam']\n",
    "\n",
    "Av*2"
   ]
  },
  {
   "cell_type": "markdown",
   "metadata": {},
   "source": [
    "## in Operator\n",
    "- You can use the in operator on list with the if statement. "
   ]
  },
  {
   "cell_type": "code",
   "execution_count": 12,
   "metadata": {},
   "outputs": [],
   "source": [
    "Avengers= ['hulk', 'iron-man', 'Captain-America', 'Thor']\n",
    "\n",
    "# write a program that checks if \"iron-man\" is in the list and displays \"yes\" if it is otherwise \"no\"\n",
    "\n",
    "\n",
    "\n",
    "# you can also check on \"vision\"\n",
    "\n"
   ]
  },
  {
   "cell_type": "markdown",
   "metadata": {},
   "source": [
    "## List functions\n",
    "- In this section, we will discuss some Python built-in functions, which can be applied to a list.\n"
   ]
  },
  {
   "cell_type": "code",
   "execution_count": 13,
   "metadata": {},
   "outputs": [],
   "source": [
    "# The len() function returns the number of elements or values in the list\n",
    "Avengers = ['hulk', 'iron-man', 'Captain-America', 'Thor']\n",
    "\n",
    "\n",
    "# The max (list) function returns the element of the list with the maximum value:\n",
    "#list1 = [1, 2, 3, 4,510]\n",
    "\n"
   ]
  },
  {
   "cell_type": "markdown",
   "metadata": {},
   "source": [
    "## list()\n",
    "- You can easily convert a tuple into a list by using the list () function.\n"
   ]
  },
  {
   "cell_type": "code",
   "execution_count": 14,
   "metadata": {},
   "outputs": [
    {
     "data": {
      "text/plain": [
       "('m', 'o', 'h', 'i', 't', ' ', 'r', 'a', 'j')"
      ]
     },
     "execution_count": 14,
     "metadata": {},
     "output_type": "execute_result"
    }
   ],
   "source": [
    "# convert the tuple to a list\n",
    "tup1 = (\"a\",\"b\",\"c\")\n",
    "\n",
    "\n",
    "name = \"mohit raj\"\n",
    "\n",
    "list(tup1)\n",
    "tuple(name)"
   ]
  },
  {
   "cell_type": "markdown",
   "metadata": {},
   "source": [
    "## sorted()\n",
    "- Python offers you a function to sort the list, called sorted ().\n"
   ]
  },
  {
   "cell_type": "code",
   "execution_count": 15,
   "metadata": {},
   "outputs": [],
   "source": [
    "list1 = [2, 3, 0, 3, 1, 4, 7, 1]\n",
    "\n",
    "\n",
    "# sort the list both in ascending and descending order\n",
    "\n",
    "#tup1 = (2, 3, 0, 6, 1, 4, 7, 8)\n",
    "\n"
   ]
  },
  {
   "cell_type": "markdown",
   "metadata": {},
   "source": [
    "## List Methods\n",
    "- Here, we will discuss different methods that can be applied to a list."
   ]
  },
  {
   "cell_type": "markdown",
   "metadata": {},
   "source": [
    "## append()\n",
    "- The syntax for the append () method is given as follows:\n",
    "    - list.append () \n",
    "\n",
    "- The method adds a value at the end of the list."
   ]
  },
  {
   "cell_type": "code",
   "execution_count": 16,
   "metadata": {},
   "outputs": [],
   "source": [
    "Avengers = []\n",
    "\n",
    "# Append [\"iron-man\", 'Thor'] to the empty list\n",
    "\n",
    "\n",
    "# Also append \"Captain-America\" "
   ]
  },
  {
   "cell_type": "markdown",
   "metadata": {},
   "source": [
    "## extend()\n",
    "- If the goal is to add two lists together, and want the original list affected, then \"extend()\" is appropriate.\n",
    "- The syntax for the extend () method is given as follows:\n",
    "    - list1.extend (seq)"
   ]
  },
  {
   "cell_type": "code",
   "execution_count": 17,
   "metadata": {},
   "outputs": [
    {
     "data": {
      "text/plain": [
       "['hulk', 'iron-man', 'Captain-America', 'Thor', 'Vision', 'sam']"
      ]
     },
     "execution_count": 17,
     "metadata": {},
     "output_type": "execute_result"
    }
   ],
   "source": [
    "Avengers1 = ['hulk', 'iron-man', 'Captain-America', 'Thor']\n",
    "Avengers2 = [\"Vision\",\"sam\"]\n",
    "\n",
    "\n",
    "# extend the first list by the second list\n",
    "\n",
    "Avengers1.extend(Avengers2)\n",
    "Avengers1"
   ]
  },
  {
   "cell_type": "code",
   "execution_count": 18,
   "metadata": {},
   "outputs": [],
   "source": [
    "#Avengers1"
   ]
  },
  {
   "cell_type": "markdown",
   "metadata": {},
   "source": [
    "## difference btw append and extend"
   ]
  },
  {
   "cell_type": "code",
   "execution_count": 19,
   "metadata": {},
   "outputs": [
    {
     "data": {
      "text/plain": [
       "['kali', 'Ubuntu', 'debian', ['RHEL', 'Centos']]"
      ]
     },
     "execution_count": 19,
     "metadata": {},
     "output_type": "execute_result"
    }
   ],
   "source": [
    "Linux  = [\"kali\", \"Ubuntu\", \"debian\"]\n",
    "Linux2 = [\"RHEL\", \"Centos\"]\n",
    "\n",
    "# append the two lists\n",
    "\n",
    "Linux.append(Linux2)\n",
    "Linux"
   ]
  },
  {
   "cell_type": "code",
   "execution_count": 20,
   "metadata": {},
   "outputs": [
    {
     "data": {
      "text/plain": [
       "['kali', 'Ubuntu', 'debian', 'RHEL', 'Centos']"
      ]
     },
     "execution_count": 20,
     "metadata": {},
     "output_type": "execute_result"
    }
   ],
   "source": [
    "# extend the lists\n",
    "Linux  = [\"kali\", \"Ubuntu\", \"debian\"]\n",
    "Linux2 = [\"RHEL\", \"Centos\"]\n",
    "Linux.extend(Linux2)\n",
    "Linux"
   ]
  },
  {
   "cell_type": "markdown",
   "metadata": {},
   "source": [
    "## sorted() and sort()"
   ]
  },
  {
   "cell_type": "code",
   "execution_count": 21,
   "metadata": {},
   "outputs": [
    {
     "data": {
      "text/plain": [
       "[2, 3, 3, 4, 6, 9, 50]"
      ]
     },
     "execution_count": 21,
     "metadata": {},
     "output_type": "execute_result"
    }
   ],
   "source": [
    "l1 = [3, 2, 3, 6, 9, 4, 50]\n",
    "\n",
    "\n",
    "# sort the list using sort() and sorted()\n",
    "\n",
    "#sorted(l1)\n",
    "l1.sort()\n",
    "l1"
   ]
  },
  {
   "cell_type": "markdown",
   "metadata": {},
   "source": [
    "## insert()\n",
    "- The syntax for the insert () method is given as follows:\n",
    "    - list1.insert (index1, item)\n",
    "    \n",
    "\n",
    "- $index1$ is the position where the item needs to be inserted. The $item$ is the value to be inserted into list1."
   ]
  },
  {
   "cell_type": "code",
   "execution_count": 22,
   "metadata": {},
   "outputs": [
    {
     "data": {
      "text/plain": [
       "['iron-man', 'Captain-America', 'hulk', 'Thor']"
      ]
     },
     "execution_count": 22,
     "metadata": {},
     "output_type": "execute_result"
    }
   ],
   "source": [
    "A = ['iron-man', 'hulk', 'Thor']\n",
    "\n",
    "# insert 'Captain-America' in the ist position \n",
    "\n",
    "A.insert(1,\"Captain-America\")\n",
    "A"
   ]
  },
  {
   "cell_type": "code",
   "execution_count": null,
   "metadata": {},
   "outputs": [],
   "source": []
  },
  {
   "cell_type": "markdown",
   "metadata": {},
   "source": [
    "## List Comprehensions\n",
    "- List comprehension is a concise way of creating lists."
   ]
  },
  {
   "cell_type": "code",
   "execution_count": 23,
   "metadata": {},
   "outputs": [],
   "source": [
    "list1 = [2,3,4,5,6]\n",
    "\n",
    "# Write a program to get the cube of each number in the list\n",
    "\n"
   ]
  },
  {
   "cell_type": "code",
   "execution_count": 24,
   "metadata": {},
   "outputs": [
    {
     "data": {
      "text/plain": [
       "[4, 16, 36, 64, 100]"
      ]
     },
     "execution_count": 24,
     "metadata": {},
     "output_type": "execute_result"
    }
   ],
   "source": [
    "#  Write a program to get the square of the even numbers of the list below\n",
    "list1 = [1,2,3,4,5,6, 7, 8, 9, 10]\n",
    "\n",
    "\n",
    "list2 = [i**2 for i in list1 if i%2==0]\n",
    "list2"
   ]
  },
  {
   "cell_type": "markdown",
   "metadata": {},
   "source": [
    "## Range Function"
   ]
  },
  {
   "cell_type": "code",
   "execution_count": 25,
   "metadata": {},
   "outputs": [
    {
     "name": "stdout",
     "output_type": "stream",
     "text": [
      "1\n",
      "2\n",
      "3\n",
      "4\n",
      "5\n",
      "6\n",
      "7\n",
      "8\n",
      "9\n"
     ]
    }
   ],
   "source": [
    "# examples of range function\n",
    "for i in range(1, 10):\n",
    "    print(i)"
   ]
  },
  {
   "cell_type": "code",
   "execution_count": null,
   "metadata": {},
   "outputs": [],
   "source": [
    "\n"
   ]
  },
  {
   "cell_type": "code",
   "execution_count": null,
   "metadata": {},
   "outputs": [],
   "source": []
  },
  {
   "cell_type": "markdown",
   "metadata": {},
   "source": [
    "## Short exercise\n",
    "- Given a list of 1 through 10, write a program to display the cube of the odd numbers"
   ]
  },
  {
   "cell_type": "markdown",
   "metadata": {},
   "source": [
    "## Dictionaries\n",
    "- In Python, a dictionary is a sequence of key-value, or item pairs separated by commas. \n",
    "- Consider the following example:\n",
    "    - port = {22: \"SSH\", 23: \"Telnet\" , 53: \"DNS\", 80: \"HTTP\" } \n",
    "- The port variable refers to a dictionary that contains port numbers as keys and its protocol names as values. \n",
    "- Consider the following example:\n",
    "    - companies = {\"IBM\": \"International Business Machines\", \"L&T\" :\"Larsen & Toubro\"} \n",
    "- The syntax of a dictionary is as follows:\n",
    "    - Dictionary_name = {key: value}"
   ]
  },
  {
   "cell_type": "markdown",
   "metadata": {},
   "source": [
    "## Accessing the values of dictionary\n",
    "- In order to access the dictionary's values you will need the key."
   ]
  },
  {
   "cell_type": "code",
   "execution_count": 26,
   "metadata": {},
   "outputs": [],
   "source": [
    "port = {80: \"HTTP\", 23 : \"Telnet\", 443 : \"HTTPS\"} \n",
    "\n",
    "# get the key of value 23\n"
   ]
  },
  {
   "cell_type": "markdown",
   "metadata": {},
   "source": [
    "## Deleting an item from the dictionary\n",
    "- By using the $del$ keyword, you can delete the entire dictionary or the dictionary's items."
   ]
  },
  {
   "cell_type": "code",
   "execution_count": 27,
   "metadata": {},
   "outputs": [
    {
     "data": {
      "text/plain": [
       "{23: 'Telnet', 443: 'HTTPS'}"
      ]
     },
     "execution_count": 27,
     "metadata": {},
     "output_type": "execute_result"
    }
   ],
   "source": [
    "# delete an item in the dictionary\n",
    "del port[80]\n",
    "port"
   ]
  },
  {
   "cell_type": "markdown",
   "metadata": {},
   "source": [
    "## Updating the values of the dictionary\n",
    "- Updating the dictionary is pretty simple; just specify the key in the square bracket along with the dictionary name. \n",
    "The syntax is as follows:\n",
    "    - dict[key] = new_value "
   ]
  },
  {
   "cell_type": "code",
   "execution_count": 28,
   "metadata": {},
   "outputs": [],
   "source": [
    "port = {80: \"HTTP\", 23 : \"SMTP\", 443 : \"HTTPS\"} \n",
    "\n",
    "# update the value of key 23 to \"TELNET\"\n",
    "\n"
   ]
  },
  {
   "cell_type": "markdown",
   "metadata": {},
   "source": [
    "## Adding an item to the dictionary\n",
    "- Adding an item to the dictionary is very simple; just specify a new key in the square brackets along with the dictionary."
   ]
  },
  {
   "cell_type": "code",
   "execution_count": 29,
   "metadata": {},
   "outputs": [],
   "source": [
    "# add key:value (110:'POP') to the dictionary above\n",
    "\n"
   ]
  },
  {
   "cell_type": "markdown",
   "metadata": {},
   "source": [
    "## Dictionary functions"
   ]
  },
  {
   "cell_type": "code",
   "execution_count": 30,
   "metadata": {},
   "outputs": [],
   "source": [
    "# In order to find the number of items that are present in a dictionary, you can use the len() function.\n",
    "\n"
   ]
  },
  {
   "cell_type": "code",
   "execution_count": 31,
   "metadata": {},
   "outputs": [],
   "source": [
    "# convert list to a dictionary\n",
    "port = [[80,\"http\"],[20,\"ftp\"],[23,\"telnet\"],[443,\"https\"],[53,\"DNS\"]] \n",
    "\n"
   ]
  },
  {
   "cell_type": "markdown",
   "metadata": {},
   "source": [
    "## items()\n",
    "- The items() method returns the list of dictionary's (key, value) tuple pairs."
   ]
  },
  {
   "cell_type": "code",
   "execution_count": 32,
   "metadata": {},
   "outputs": [],
   "source": [
    "dict1 = {1: 'one', 2:'two', 3:'three'}\n",
    "\n",
    "# get the keys and values of the dictionary\n",
    "\n",
    "\n",
    "# we can also get the items\n"
   ]
  },
  {
   "cell_type": "code",
   "execution_count": null,
   "metadata": {},
   "outputs": [],
   "source": []
  },
  {
   "cell_type": "markdown",
   "metadata": {},
   "source": [
    "## in Operator\n",
    "- The in operator can be used to find the existence of a key in the dictionary."
   ]
  },
  {
   "cell_type": "code",
   "execution_count": 33,
   "metadata": {},
   "outputs": [],
   "source": [
    "port1 = {21: \"FTP\", 22:\"SSH\", 23: \"telnet\", 80: \"http\"} \n",
    "\n",
    "# write a program to collect an integer key from a user, if the key is in the port, then print yes otherwise no\n",
    "\n"
   ]
  },
  {
   "cell_type": "markdown",
   "metadata": {},
   "source": [
    "## Python Dictionary with for loop"
   ]
  },
  {
   "cell_type": "code",
   "execution_count": 34,
   "metadata": {},
   "outputs": [],
   "source": [
    "port1 = {21: \"FTP\", 22 :\"SSH\", 23: \"telnet\", 80: \"http\"} \n",
    "\n"
   ]
  },
  {
   "cell_type": "markdown",
   "metadata": {},
   "source": [
    "## Exercise\n",
    "-  Write a program using the following list and sort it based on the sum of the values of the tuples of the list:\n",
    "    - [(1,5),(9,0),(12,3),(5,4),(13,6),(1,1)]\n",
    "\n",
    "    \n",
    "-  Given a two Python list. Iterate both lists simultaneously such that list1 should display item in original order\n",
    "and list2 in reverse order:\n",
    "    - list1 = [10, 20, 30, 40], list2 = [100, 200, 300, 400]\n",
    "\n",
    "- Given number 1 through 10, write a program to display \"Even\" for even numbers and \"Odd\" for odd numbers.\n",
    "\n",
    "\n",
    "-  Write a Python program to count the number of strings where the string length is 2 or more and \n",
    "the first and last character are same from a given list of strings:\n",
    "    - ['abc', 'xyz', 'aba', '1221', 'bhgsskknb', 'aa'] \n",
    "    \n",
    "- Given a list of 1 through 10, write a program to display the square root of the even numbers\n",
    "\n",
    "- write a program such that $list1$ will act as keys while $list2$ will act as the values of the dictionary:\n",
    "    - list1 = [1, 2, 3, 4, 5], list2 = [\"a\", \"b\", \"c\",\"d\", \"e\"] "
   ]
  },
  {
   "cell_type": "markdown",
   "metadata": {},
   "source": [
    "    Solutions to Exercise"
   ]
  },
  {
   "cell_type": "code",
   "execution_count": 35,
   "metadata": {},
   "outputs": [
    {
     "data": {
      "text/plain": [
       "[2, 6, 9, 9, 15, 19]"
      ]
     },
     "execution_count": 35,
     "metadata": {},
     "output_type": "execute_result"
    }
   ],
   "source": [
    "#Question 1\n",
    "list1 = [(1,5),(9,0),(12,3),(5,4),(13,6), (1,1)]\n",
    "\n",
    "# list2 = list()\n",
    "# for i in list1:\n",
    "#     sum = 0\n",
    "#     for j in i:\n",
    "#         sum += j\n",
    "#     list2.append(sum)\n",
    "# sorted(list2)\n",
    "\n",
    "list3 = sorted([i+j for (i, j) in list1])\n",
    "list3"
   ]
  },
  {
   "cell_type": "code",
   "execution_count": 36,
   "metadata": {},
   "outputs": [
    {
     "data": {
      "text/plain": [
       "[(10, 400), (20, 300), (30, 200), (40, 100)]"
      ]
     },
     "execution_count": 36,
     "metadata": {},
     "output_type": "execute_result"
    }
   ],
   "source": [
    "#Questions 2\n",
    "list1 = [10, 20, 30, 40]\n",
    "list2 = [100, 200, 300, 400]\n",
    "\n",
    "# list3 = list()\n",
    "# for (i, j) in zip(list1, reversed(list2)):\n",
    "#     list3.append((i, j))\n",
    "# list3\n",
    "\n",
    "list4 = [(i, j) for (i, j) in zip(list1, reversed(list2))]\n",
    "list4"
   ]
  },
  {
   "cell_type": "code",
   "execution_count": 37,
   "metadata": {},
   "outputs": [
    {
     "data": {
      "text/plain": [
       "['Odd', 'Even', 'Odd', 'Even', 'Odd', 'Even', 'Odd', 'Even', 'Odd', 'Even']"
      ]
     },
     "execution_count": 37,
     "metadata": {},
     "output_type": "execute_result"
    }
   ],
   "source": [
    "#Question 3\n",
    "\n",
    "# list1 = list()\n",
    "# for i in range(1, 11):\n",
    "#     if i%2==0:\n",
    "#         list1.append(\"Even\")\n",
    "#     else:\n",
    "#         list1.append(\"Odd\")\n",
    "# list1\n",
    "\n",
    "list2 = [\"Even\" if i%2==0 else \"Odd\" for i in range(1,11) ]\n",
    "list2"
   ]
  },
  {
   "cell_type": "code",
   "execution_count": 38,
   "metadata": {},
   "outputs": [
    {
     "data": {
      "text/plain": [
       "4"
      ]
     },
     "execution_count": 38,
     "metadata": {},
     "output_type": "execute_result"
    }
   ],
   "source": [
    "#Question 4\n",
    "list1 = ['abc', 'xyz', 'aba', '1221', 'bhgsskknb', 'aa']\n",
    "\n",
    "# list2 = list()\n",
    "# for i in list1:\n",
    "#     if len(i)>=2 and i[0]==i[-1]:\n",
    "#         list2.append(i)\n",
    "# len(list2)\n",
    "\n",
    "list3 = [i for i in list1 if len(i)>=2 and i[0]==i[-1]]\n",
    "len(list3)"
   ]
  },
  {
   "cell_type": "code",
   "execution_count": 39,
   "metadata": {},
   "outputs": [
    {
     "data": {
      "text/plain": [
       "[1.4142135623730951,\n",
       " 2.0,\n",
       " 2.449489742783178,\n",
       " 2.8284271247461903,\n",
       " 3.1622776601683795]"
      ]
     },
     "execution_count": 39,
     "metadata": {},
     "output_type": "execute_result"
    }
   ],
   "source": [
    "#Question 5\n",
    "\n",
    "# list1 = list()\n",
    "# for i in range(1, 11):\n",
    "#     if i%2==0:\n",
    "#         list1.append(i**0.5)\n",
    "# list1\n",
    "\n",
    "list2 = [i**0.5 for i in range(1, 11) if i%2==0]\n",
    "list2"
   ]
  },
  {
   "cell_type": "code",
   "execution_count": 40,
   "metadata": {},
   "outputs": [
    {
     "data": {
      "text/plain": [
       "[{1: 'a'}, {2: 'b'}, {3: 'c'}, {4: 'd'}, {5: 'e'}]"
      ]
     },
     "execution_count": 40,
     "metadata": {},
     "output_type": "execute_result"
    }
   ],
   "source": [
    "#Question 6\n",
    "list1 = [1, 2, 3, 4, 5]\n",
    "list2 = [\"a\", \"b\", \"c\",\"d\", \"e\"]\n",
    "\n",
    "# list3 = dict()\n",
    "# for (k, v) in zip(list1, list2):\n",
    "#     list3[k] = v\n",
    "# list3\n",
    "\n",
    "list4 = [{k:v} for (k, v) in zip(list1, list2)]\n",
    "list4"
   ]
  },
  {
   "cell_type": "code",
   "execution_count": null,
   "metadata": {},
   "outputs": [],
   "source": []
  }
 ],
 "metadata": {
  "kernelspec": {
   "display_name": "Python 3",
   "language": "python",
   "name": "python3"
  },
  "language_info": {
   "codemirror_mode": {
    "name": "ipython",
    "version": 3
   },
   "file_extension": ".py",
   "mimetype": "text/x-python",
   "name": "python",
   "nbconvert_exporter": "python",
   "pygments_lexer": "ipython3",
   "version": "3.7.6"
  }
 },
 "nbformat": 4,
 "nbformat_minor": 4
}
